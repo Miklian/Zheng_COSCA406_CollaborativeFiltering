{
 "cells": [
  {
   "cell_type": "markdown",
   "metadata": {},
   "source": [
    "## Implementing Collaborative Filtering from scratch\n",
    "\n",
    "### Objective:\n",
    "The goal of this exercise is to guide you through the implementation of collaborative filtering using matrix factorization and stochastic gradient descent (SGD). By the end of this exercise, students will have a working collaborative filtering system that predicts user ratings for movies\n",
    "\n",
    "### Step 1: Understanding Collaborative Filtering:\n",
    "Description: Collaborative filtering is a technique used in recommendation systems that predicts user preferences based on past interactions. It relies on the idea that users with similar preferences in the past will likely have similar preferences in the future.\n",
    "\n",
    "Task: Research the concept of collaborative filtering and explain the difference between user-based and item-based filtering.\n",
    "\n",
    "Question: What are the advantages of matrix factorization in collaborative filtering?"
   ]
  },
  {
   "cell_type": "markdown",
   "metadata": {},
   "source": [
    "### Step 2: Loading the Dataset\n",
    "\n",
    "Description: The MovieLens dataset contains user ratings for different movies. We will use two files:\n",
    "* ratings.csv - contains userId, movieId, and rating.\n",
    "* movies.csv - contains movieId and title.\n",
    "\n",
    "Task: Load the dataset into a Pandas DataFrame named ratings and movies and inspect the first few rows.\n",
    "\n",
    "Hint: Use pd.read_csv() to read the files rating.csv and movies.csv.\n",
    "\n",
    "Question: What are the key columns in the ratings.csv file, and why are they important?\n",
    "\n",
    "Task: define three variables:\n",
    "* ratings_shape is the ratings.csv shape, \n",
    "* n_users is the number of unique users and \n",
    "* n_movies is the number unique movies"
   ]
  },
  {
   "cell_type": "code",
   "execution_count": 5,
   "metadata": {},
   "outputs": [],
   "source": [
    "import numpy as np\n",
    "import pandas as pd\n",
    "from sklearn.model_selection import train_test_split\n",
    "\n",
    "# Write your code here ro read the ratings and movies datasets:\n",
    "ratings = pd.read_csv ('ratings.csv')\n",
    "movies = pd.read_csv ('movies.csv')"
   ]
  },
  {
   "cell_type": "markdown",
   "metadata": {},
   "source": [
    "### Step 3: Creating the User-Item Matrix\n",
    "\n",
    "Description: We need to convert our dataset into a user-item matrix where rows represent users, columns represent movies, and values represent ratings.\n",
    "\n",
    "Task: Use Pandas pivot() function to transform the ratings data. Fill the empty spaces (or nan) with 0.\n",
    "\n",
    "Hine: type the code in the next cell: user_item_matrix = ratings.pivot(index='userId', columns='movieId', values='rating').fillna(0)\n",
    "\n",
    "The Pandas pivot, will convert the dataframe into another dataframe where the row index is 'userId'. the column index is 'movieId' and the values of the dataframe is 'rating'. \n",
    "Think of the result dataframe as the matrix called user_item_matrix."
   ]
  },
  {
   "cell_type": "code",
   "execution_count": 6,
   "metadata": {},
   "outputs": [],
   "source": [
    "# Write your code here:\n",
    "user_item_matrix = ratings.pivot(index='userId', columns='movieId', values='rating').fillna(0)\n"
   ]
  },
  {
   "cell_type": "markdown",
   "metadata": {},
   "source": [
    "### Step 4: Initializing Parameters\n",
    "\n",
    "Description: We need to initialize two matrices: U (user features) and M (movie features). These matrices represent latent (means hidden) factors that define user preferences and movie characteristics.\n",
    "\n",
    "Task: Initialize U and M matrices randomly.\n",
    "\n",
    "Remember: \n",
    "* n_users is the number of user\n",
    "* n_movies is the number of movies\n",
    "* the latent factors are parameter you can play with, set it to 10 (latents_factors=10)\n",
    "\n",
    "The latent_factors variable determines the number of hidden features in the matrix factorization model. It represents the dimensions of user preferences and movie characteristics.\n",
    "\n",
    "Effects:\n",
    "\n",
    "* Too few factors → The model may not capture enough information, leading to poor recommendations.\n",
    "* Too many factors → The model may overfit, capturing noise instead of meaningful patterns.\n",
    "\n",
    "A reasonable number is chosen based on dataset size and experimentation."
   ]
  },
  {
   "cell_type": "code",
   "execution_count": 7,
   "metadata": {},
   "outputs": [
    {
     "name": "stdout",
     "output_type": "stream",
     "text": [
      "R.shape= (610, 9724) num_users= 610 num_movies= 9724\n"
     ]
    }
   ],
   "source": [
    "# Convert to numpy array\n",
    "R = user_item_matrix.values\n",
    "num_users, num_items = R.shape\n",
    "\n",
    "print('R.shape=', R.shape, 'num_users=', num_users, 'num_movies=', num_items)\n",
    "\n",
    "# Randomly initialize user and item matrices\n",
    "latent_factors = 10  # Number of latent features\n",
    "\n",
    "# Write your code here to define U abd M matrices:\n"
   ]
  },
  {
   "cell_type": "markdown",
   "metadata": {},
   "source": [
    "### Step 5: Implementing the Training Algorithm\n",
    "\n",
    "Description: We will use Stochastic Gradient Descent (SGD) to update U and M based on observed ratings. The goal is to minimize the error between predicted and actual ratings.\n",
    "\n",
    "The dot product between U (user preferences) and M (movie characteristics) represents the predicted rating a user would give to a movie. A higher value indicates a stronger preference, guiding the recommendation system.\n",
    "\n",
    "Regularization is a term that we add during updating the matricies U and M to helps prevent overfitting by penalizing large values in U and M. This encourages the model to generalize better to unseen data.\n",
    "* Without regularization: The model may memorize (overfitting) training data, leading to poor performance on new ratings.\n",
    "* With regularization: The model balances fitting known ratings while maintaining generalization ability.\n",
    "\n",
    "Task: Implement the SGD update rule for training the model. Type the code below:\n",
    "\n",
    "```\n",
    "Learning_rate = 0.01\n",
    "reg_param = 0.02 # Reqgularization parameter to prevent overfitting\n",
    "epochs = 100 # number of iterations\n",
    "\n",
    "for epoch in range(epochs):\n",
    "    for i in range(num_users): # loop on all users\n",
    "        for j in range(num_items): # loop on all movies\n",
    "            if R[i, j] > 0:  # Only consider known ratings\n",
    "                error = R[i, j] - np.dot(U[i, :], M[j, :].T) # Multiply matrix U[i,:] (specific user) and M[:, j] (specific movie)\n",
    "                U[i, :] += learning_rate * (error * M[j, :] - reg_param * U[i, :]) # Update user latent_factors for specific user\n",
    "                M[j, :] += learning_rate * (error * U[i, :] - reg_param * M[j, :]) # Update movie latent_factors for specific movie\n",
    "    # compute the root mean square error between the actual user_item_matrix and the predicted matrix:\n",
    "    mse = np.mean((R[R > 0] - np.dot(U, M.T)[R > 0]) ** 2)\n",
    "    if (epoch+1) % 10 == 0: print(f\"Epoch {epoch + 1}, MSE: {mse:.4f}\") # print root mean square error every 20 iterations\n",
    "```\n",
    "Updating U and M only for known ratings ensures that we learn from actual data rather than making arbitrary updates based on missing values. This prevents incorrect assumptions and improves model accuracy."
   ]
  },
  {
   "cell_type": "code",
   "execution_count": 8,
   "metadata": {},
   "outputs": [
    {
     "ename": "NameError",
     "evalue": "name 'U' is not defined",
     "output_type": "error",
     "traceback": [
      "\u001b[1;31m---------------------------------------------------------------------------\u001b[0m",
      "\u001b[1;31mNameError\u001b[0m                                 Traceback (most recent call last)",
      "Cell \u001b[1;32mIn[8], line 10\u001b[0m\n\u001b[0;32m      8\u001b[0m \u001b[38;5;28;01mfor\u001b[39;00m j \u001b[38;5;129;01min\u001b[39;00m \u001b[38;5;28mrange\u001b[39m(num_items): \u001b[38;5;66;03m# loop on all movies\u001b[39;00m\n\u001b[0;32m      9\u001b[0m     \u001b[38;5;28;01mif\u001b[39;00m R[i, j] \u001b[38;5;241m>\u001b[39m \u001b[38;5;241m0\u001b[39m:  \u001b[38;5;66;03m# Only consider known ratings\u001b[39;00m\n\u001b[1;32m---> 10\u001b[0m         error \u001b[38;5;241m=\u001b[39m R[i, j] \u001b[38;5;241m-\u001b[39m np\u001b[38;5;241m.\u001b[39mdot(\u001b[43mU\u001b[49m[i, :], M[j, :]\u001b[38;5;241m.\u001b[39mT) \u001b[38;5;66;03m# Multiply matrix U[i,:] (specific user) and M[:, j] (specific movie)\u001b[39;00m\n\u001b[0;32m     11\u001b[0m         U[i, :] \u001b[38;5;241m+\u001b[39m\u001b[38;5;241m=\u001b[39m learning_rate \u001b[38;5;241m*\u001b[39m (error \u001b[38;5;241m*\u001b[39m M[j, :] \u001b[38;5;241m-\u001b[39m reg_param \u001b[38;5;241m*\u001b[39m U[i, :]) \u001b[38;5;66;03m# Update user latent_factors for specific user\u001b[39;00m\n\u001b[0;32m     12\u001b[0m         M[j, :] \u001b[38;5;241m+\u001b[39m\u001b[38;5;241m=\u001b[39m learning_rate \u001b[38;5;241m*\u001b[39m (error \u001b[38;5;241m*\u001b[39m U[i, :] \u001b[38;5;241m-\u001b[39m reg_param \u001b[38;5;241m*\u001b[39m M[j, :]) \u001b[38;5;66;03m# Update movie latent_factors for specific movie\u001b[39;00m\n",
      "\u001b[1;31mNameError\u001b[0m: name 'U' is not defined"
     ]
    }
   ],
   "source": [
    "# Type the code here, when you run the cell it will some time to finish.\n",
    "Learning_rate = 0.01\n",
    "reg_param = 0.02 # Reqgularization parameter to prevent overfitting\n",
    "epochs = 100 # number of iterations\n",
    "\n",
    "for epoch in range(epochs):\n",
    "    for i in range(num_users): # loop on all users\n",
    "        for j in range(num_items): # loop on all movies\n",
    "            if R[i, j] > 0:  # Only consider known ratings\n",
    "                error = R[i, j] - np.dot(U[i, :], M[j, :].T) # Multiply matrix U[i,:] (specific user) and M[:, j] (specific movie)\n",
    "                U[i, :] += learning_rate * (error * M[j, :] - reg_param * U[i, :]) # Update user latent_factors for specific user\n",
    "                M[j, :] += learning_rate * (error * U[i, :] - reg_param * M[j, :]) # Update movie latent_factors for specific movie\n",
    "    # compute the root mean square error between the actual user_item_matrix and the predicted matrix:\n",
    "    mse = np.mean((R[R > 0] - np.dot(U, M.T)[R > 0]) ** 2)\n",
    "    if (epoch+1) % 10 == 0: print(f\"Epoch {epoch + 1}, MSE: {mse:.4f}\") # print root mean square error every 20 iterations"
   ]
  },
  {
   "cell_type": "markdown",
   "metadata": {},
   "source": [
    "### Step 6: Making Predictions\n",
    "\n",
    "Description: Now that we have trained U and M, we can make predictions by computing the dot product of U and V.\n",
    "\n",
    "Task: Implement a function to predict the rating for a specific user and movie. Type the code below:\n",
    "```\n",
    "def predict(user, movie): # predict the rating of a user to a movie.\n",
    "    user_idx = user - 1  # Adjust index\n",
    "    movie_idx = movie - 1\n",
    "    # multiple matrix U and M for that specific user and specific movie\n",
    "    predicted_rating = np.dot(U[user_idx, :], M[movie_idx, :].T)\n",
    "    # Find the movie name:\n",
    "    movie_name = movies.loc[movies['movieId'] == movie, 'title'].values[0]\n",
    "    # Return the predict rating for that specific user and the movie name\n",
    "    return predicted_rating, movie_name\n",
    "\n",
    "# Predict rating for user 1 and movie 10\n",
    "prediction, movie_name = predict(1, 10)\n",
    "print(f\"Predicted rating for User 1 and Movie '{movie_name}': {prediction:.2f}\")\n",
    "```"
   ]
  },
  {
   "cell_type": "code",
   "execution_count": null,
   "metadata": {},
   "outputs": [],
   "source": [
    "# Type the code here to do predictions:\n",
    "def predict(user, movie): # predict the rating of a user to a movie.\n",
    "    user_idx = user - 1  # Adjust index\n",
    "    movie_idx = movie - 1\n",
    "    # multiple matrix U and M for that specific user and specific movie\n",
    "    predicted_rating = np.dot(U[user_idx, :], M[movie_idx, :].T)\n",
    "    # Find the movie name:\n",
    "    movie_name = movies.loc[movies['movieId'] == movie, 'title'].values[0]\n",
    "    # Return the predict rating for that specific user and the movie name\n",
    "    return predicted_rating, movie_name\n",
    "\n",
    "# Predict rating for user 1 and movie 10\n",
    "prediction, movie_name = predict(1, 10)\n",
    "print(f\"Predicted rating for User 1 and Movie '{movie_name}': {prediction:.2f}\")"
   ]
  },
  {
   "cell_type": "markdown",
   "metadata": {},
   "source": [
    "### Step 7: Evaluating the Model\n",
    "\n",
    "Description: Evaluate the performance of the model using Mean Squared Error (MSE) or other relevant metrics.\n",
    "\n",
    "Task: Compute the overall error on the dataset."
   ]
  },
  {
   "cell_type": "code",
   "execution_count": null,
   "metadata": {},
   "outputs": [],
   "source": [
    "# Write the code here\n",
    "# Use the root mean squared error (RMSE) formula."
   ]
  },
  {
   "cell_type": "markdown",
   "metadata": {},
   "source": [
    "Generate the top-N recommendations for a specific user. We need to compute the predicted ratings for all movies a user hasn't rated, then return the highest ranked movies.\n",
    "Type in the following code:\n",
    "```\n",
    "def recommend_movies(user, N=5):\n",
    "    user_idx = user - 1  # Adjust index\n",
    "    predicted_ratings = np.dot(U[user_idx, :], M.T) # multiply the U for a specific user with all movies M latent_factors\n",
    "    movie_indices = np.argsort(predicted_ratings)[::-1]  # Sort in descending order\n",
    "\n",
    "    recommended_movies = []\n",
    "    for movie_idx in movie_indices:\n",
    "        movie_id = user_item_matrix.columns[movie_idx] # get the movie id\n",
    "         if user_item_matrix.iloc[user, movie_idx] != 0:\n",
    "            movie_name = movies.loc[movies['movieId'] == movie_id, 'title'].values[0] # get the movie name\n",
    "            recommended_movies.append((movie_name, predicted_ratings[movie_idx]))  # append the movie name with predicted rating\n",
    "        if len(recommended_movies) >= N: # stop when you collect N movies.\n",
    "            break\n",
    "    \n",
    "    return recommended_movies\n",
    "\n",
    "# Example: Get top 5 recommendations for User 1\n",
    "top_movies = recommend_movies(1)\n",
    "for movie, rating in top_movies:\n",
    "    print(f\"Movie: {movie}, Predicted Rating: {rating:.2f}\")\n",
    "```"
   ]
  },
  {
   "cell_type": "code",
   "execution_count": null,
   "metadata": {},
   "outputs": [],
   "source": [
    "# Write your code here\n",
    "def recommend_movies(user, N=5):\n",
    "    user_idx = user - 1  # Adjust index\n",
    "    predicted_ratings = np.dot(U[user_idx, :], M.T) # multiply the U for a specific user with all movies M latent_factors\n",
    "    movie_indices = np.argsort(predicted_ratings)[::-1]  # Sort in descending order\n",
    "\n",
    "    recommended_movies = []\n",
    "    for movie_idx in movie_indices:\n",
    "        movie_id = user_item_matrix.columns[movie_idx] # get the movie id\n",
    "         if user_item_matrix.iloc[user, movie_idx] != 0:\n",
    "            movie_name = movies.loc[movies['movieId'] == movie_id, 'title'].values[0] # get the movie name\n",
    "            recommended_movies.append((movie_name, predicted_ratings[movie_idx]))  # append the movie name with predicted rating\n",
    "        if len(recommended_movies) >= N: # stop when you collect N movies.\n",
    "            break\n",
    "    \n",
    "    return recommended_movies\n",
    "\n",
    "# Example: Get top 5 recommendations for User 1\n",
    "top_movies = recommend_movies(1)\n",
    "for movie, rating in top_movies:\n",
    "    print(f\"Movie: {movie}, Predicted Rating: {rating:.2f}\")"
   ]
  },
  {
   "cell_type": "markdown",
   "metadata": {},
   "source": [
    "#### Submission Instructions\n",
    "\n",
    "Answer all conceptual questions.\n",
    "\n",
    "1. Submit the complete Python implementation with comments explaining each step.\n",
    "2. Provide a short analysis of your model's performance and potential improvements.\n",
    "\n",
    "Good luck!"
   ]
  }
 ],
 "metadata": {
  "kernelspec": {
   "display_name": "Python 3",
   "language": "python",
   "name": "python3"
  },
  "language_info": {
   "codemirror_mode": {
    "name": "ipython",
    "version": 3
   },
   "file_extension": ".py",
   "mimetype": "text/x-python",
   "name": "python",
   "nbconvert_exporter": "python",
   "pygments_lexer": "ipython3",
   "version": "3.11.1"
  }
 },
 "nbformat": 4,
 "nbformat_minor": 2
}
